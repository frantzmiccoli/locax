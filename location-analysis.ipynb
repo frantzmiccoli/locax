{
 "cells": [
  {
   "cell_type": "code",
   "execution_count": 1,
   "metadata": {},
   "outputs": [
    {
     "data": {
      "application/vnd.jupyter.widget-view+json": {
       "model_id": "194c20e9118047129fb51960791af11c",
       "version_major": 2,
       "version_minor": 0
      },
      "text/plain": [
       "IntSlider(value=1585800000, max=1585864780, min=1585800000)"
      ]
     },
     "metadata": {},
     "output_type": "display_data"
    },
    {
     "data": {
      "application/vnd.jupyter.widget-view+json": {
       "model_id": "0fe80f7988c141e9ba030c7f3fce915c",
       "version_major": 2,
       "version_minor": 0
      },
      "text/plain": [
       "Map(center=[49.6116, 6.1319], controls=(ZoomControl(options=['position', 'zoom_in_text', 'zoom_in_title', 'zoo…"
      ]
     },
     "metadata": {},
     "output_type": "display_data"
    }
   ],
   "source": [
    "from locax.person_loader import load_persons\n",
    "from locax.spread_analysis import SpreadAnalysis\n",
    "\n",
    "persons = load_persons()\n",
    "\n",
    "spread_analysis = SpreadAnalysis(persons)\n",
    "spread_analysis.detect_crossings()\n",
    "\n",
    "min_timestamp = persons[0].locations[0]['timestampMs'] / 1000\n",
    "max_timestamp =  persons[0].locations[-1]['timestampMs'] / 1000\n",
    "\n",
    "from ipywidgets import IntSlider, Output\n",
    "from ipyleaflet import Map, Marker, Icon\n",
    "\n",
    "reference_point = (49.6116, 6.1319)\n",
    "map = Map(center=reference_point)\n",
    "\n",
    "valid_spread_icon = Icon(icon_url='https://i.imgur.com/bpI2nha.png', icon_size=[12, 12], icon_anchor=[6,6])\n",
    "default_icon = Icon(icon_url='https://i.imgur.com/TFvv9tV.png', icon_size=[12, 12], icon_anchor=[6,6])\n",
    "\n",
    "\n",
    "for person in persons:\n",
    "    relevant_location = person.get_location_at_timestamp(min_timestamp)\n",
    "    marker = Marker(location=relevant_location, draggable=False, icon=default_icon)\n",
    "    map.add_layer(marker)\n",
    "    person.marker = marker\n",
    "\n",
    "import os\n",
    "\n",
    "min_timestamp, max_timestamp\n",
    "\n",
    "timestamp_slider = IntSlider(min=min_timestamp, max=max_timestamp)\n",
    "\n",
    "def on_slider_change(change_event):\n",
    "    timestamp = change_event.new\n",
    "    if isinstance(timestamp, dict):\n",
    "        if 'value' not in timestamp:\n",
    "            return\n",
    "        timestamp = timestamp['value']\n",
    "\n",
    "    for person in persons:\n",
    "        location = person.get_location_at_timestamp(timestamp)\n",
    "        person.marker.location = location\n",
    "        \n",
    "        if person.has_valid_spread_at_timestamp(timestamp):\n",
    "            person.marker.icon = valid_spread_icon\n",
    "    \n",
    "timestamp_slider.observe(on_slider_change)\n",
    "\n",
    "display(timestamp_slider, map)"
   ]
  },
  {
   "cell_type": "code",
   "execution_count": null,
   "metadata": {},
   "outputs": [],
   "source": []
  }
 ],
 "metadata": {
  "kernelspec": {
   "display_name": "Python 3",
   "language": "python",
   "name": "python3"
  },
  "language_info": {
   "codemirror_mode": {
    "name": "ipython",
    "version": 3
   },
   "file_extension": ".py",
   "mimetype": "text/x-python",
   "name": "python",
   "nbconvert_exporter": "python",
   "pygments_lexer": "ipython3",
   "version": "3.7.4"
  }
 },
 "nbformat": 4,
 "nbformat_minor": 4
}
