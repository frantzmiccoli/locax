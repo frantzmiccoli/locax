{
 "cells": [
  {
   "cell_type": "code",
   "execution_count": null,
   "metadata": {},
   "outputs": [],
   "source": [
    "from ipywidgets import IntSlider, Output\n",
    "from ipyleaflet import Map, Marker\n",
    "\n",
    "reference_point = (49.6116, 6.1319)\n",
    "map = Map(center= reference_point)\n",
    "\n",
    "marker = Marker(location=reference_point)\n",
    "map.add_layer(marker);\n",
    "\n",
    "from locax.location_loader import load_locations, get_location_at_timestamp\n",
    "import os\n",
    "\n",
    "locations = load_locations()\n",
    "\n",
    "min_timestamp = locations[0]['timestampMs'] / 1000\n",
    "max_timestamp = locations[-1]['timestampMs'] / 1000\n",
    "\n",
    "min_timestamp, max_timestamp\n",
    "\n",
    "timestamp_slider = IntSlider(min=min_timestamp, max=max_timestamp)\n",
    "\n",
    "\n",
    "def on_slider_change(change_event):\n",
    "    timestamp = change_event.new\n",
    "    if isinstance(timestamp, dict):\n",
    "        if 'value' not in timestamp:\n",
    "            return\n",
    "        timestamp = timestamp['value']\n",
    "\n",
    "    location = get_location_at_timestamp(timestamp, locations)\n",
    "    marker.location = location\n",
    "    \n",
    "timestamp_slider.observe(on_slider_change)\n",
    "\n",
    "display(timestamp_slider, map)"
   ]
  },
  {
   "cell_type": "code",
   "execution_count": null,
   "metadata": {},
   "outputs": [],
   "source": []
  }
 ],
 "metadata": {
  "kernelspec": {
   "display_name": "Python 3",
   "language": "python",
   "name": "python3"
  },
  "language_info": {
   "codemirror_mode": {
    "name": "ipython",
    "version": 3
   },
   "file_extension": ".py",
   "mimetype": "text/x-python",
   "name": "python",
   "nbconvert_exporter": "python",
   "pygments_lexer": "ipython3",
   "version": "3.7.4"
  }
 },
 "nbformat": 4,
 "nbformat_minor": 4
}
